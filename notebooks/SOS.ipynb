{
 "metadata": {
  "name": ""
 },
 "nbformat": 3,
 "nbformat_minor": 0,
 "worksheets": [
  {
   "cells": [
    {
     "cell_type": "code",
     "collapsed": false,
     "input": [
      "from owslib.sos import SensorObservationService"
     ],
     "language": "python",
     "metadata": {},
     "outputs": [],
     "prompt_number": 1
    },
    {
     "cell_type": "code",
     "collapsed": false,
     "input": [
      "weatherflow = SensorObservationService('http://d.weatherflow.com/sos/sos.pl?request=GetCapabilities&service=SOS&version=1.0.0')"
     ],
     "language": "python",
     "metadata": {},
     "outputs": [
      {
       "output_type": "stream",
       "stream": "stdout",
       "text": [
        "http://d.weatherflow.com/sos/sos.pl?request=GetCapabilities&service=SOS&version=1.0.0&acceptVersions=1.0.0\n"
       ]
      }
     ],
     "prompt_number": 2
    },
    {
     "cell_type": "code",
     "collapsed": false,
     "input": [
      "{k:v.name for k,v in weatherflow.contents.iteritems()}"
     ],
     "language": "python",
     "metadata": {},
     "outputs": [
      {
       "metadata": {},
       "output_type": "pyout",
       "prompt_number": 22,
       "text": [
        "{'network-all': 'urn:x-weatherflow:def:network:weatherflow.com::all',\n",
        " 'station-1127': 'urn:x-weatherflow:def:station:weatherflow.com::1127',\n",
        " 'station-397': 'urn:x-weatherflow:def:station:weatherflow.com::397',\n",
        " 'station-44554': 'urn:x-weatherflow:def:station:weatherflow.com::44554',\n",
        " 'station-46182': 'urn:x-weatherflow:def:station:weatherflow.com::46182',\n",
        " 'station-47091': 'urn:x-weatherflow:def:station:weatherflow.com::47091',\n",
        " 'station-48242': 'urn:x-weatherflow:def:station:weatherflow.com::48242',\n",
        " 'station-48328': 'urn:x-weatherflow:def:station:weatherflow.com::48328',\n",
        " 'station-697': 'urn:x-weatherflow:def:station:weatherflow.com::697',\n",
        " 'station-700': 'urn:x-weatherflow:def:station:weatherflow.com::700'}"
       ]
      }
     ],
     "prompt_number": 22
    },
    {
     "cell_type": "code",
     "collapsed": false,
     "input": [
      "vars(weatherflow.contents['station-700'])"
     ],
     "language": "python",
     "metadata": {},
     "outputs": [
      {
       "metadata": {},
       "output_type": "pyout",
       "prompt_number": 4,
       "text": [
        "{'_root': <Element {http://www.opengis.net/sos/1.0}ObservationOffering at 0x10995bdc0>,\n",
        " 'bbox': (-75.87741, 37.96643, -75.87741, 37.96643),\n",
        " 'bbox_srs': <owslib.crs.Crs at 0x10995ee10>,\n",
        " 'begin_position': datetime.datetime(2001, 3, 15, 3, 40, tzinfo=tzutc()),\n",
        " 'description': 'GetCapabilities',\n",
        " 'end_position': datetime.datetime(2013, 12, 16, 17, 53, tzinfo=tzutc()),\n",
        " 'features_of_interest': ['urn:cgi:Feature:CGI:EarthOcean'],\n",
        " 'id': 'station-700',\n",
        " 'name': 'urn:x-weatherflow:def:station:weatherflow.com::700',\n",
        " 'observed_properties': ['http://www.csc.noaa.gov/ioos/schema/IOOS-DIF/IOOS/0.6.1/dictionaries/phenomenaDictionary.xml#Winds'],\n",
        " 'procedures': ['urn:x-weatherflow:def:sensor:weatherflow.com::700:anemometer1'],\n",
        " 'response_formats': ['text/xml;schema=\"ioos/0.6.1\"',\n",
        "  'application/ioos+xml;version=0.6.1'],\n",
        " 'response_modes': ['inline'],\n",
        " 'result_model': 'om:Observation',\n",
        " 'srs': <owslib.crs.Crs at 0x10995ed90>}"
       ]
      }
     ],
     "prompt_number": 4
    },
    {
     "cell_type": "code",
     "collapsed": false,
     "input": [
      "getob = weatherflow.get_operation_by_name('getobservation')"
     ],
     "language": "python",
     "metadata": {},
     "outputs": [],
     "prompt_number": 5
    },
    {
     "cell_type": "code",
     "collapsed": false,
     "input": [
      "getob.parameters"
     ],
     "language": "python",
     "metadata": {},
     "outputs": [
      {
       "metadata": {},
       "output_type": "pyout",
       "prompt_number": 6,
       "text": [
        "{'observedProperty': {'values': ['watertemperature', 'winds']}}"
       ]
      }
     ],
     "prompt_number": 6
    },
    {
     "cell_type": "code",
     "collapsed": false,
     "input": [
      "from urllib import unquote\n",
      "url = 'http://d.weatherflow.com/sos/sos.pl?request=GetObservation&service=SOS&version=1.0.0&responseFormat=text%2Fxml%3Bschema%3D%22ioos%2F0.6.1%22&offering=urn%3Ax-weatherflow%3Adef%3Astation%3Aweatherflow.com%3A%3A700&observedProperty=Winds&eventtime=2013-12-06T12:18:47Z/2013-12-16T12:18:47Z'\n",
      "unquote(url)"
     ],
     "language": "python",
     "metadata": {},
     "outputs": [
      {
       "metadata": {},
       "output_type": "pyout",
       "prompt_number": 7,
       "text": [
        "'http://d.weatherflow.com/sos/sos.pl?request=GetObservation&service=SOS&version=1.0.0&responseFormat=text/xml;schema=\"ioos/0.6.1\"&offering=urn:x-weatherflow:def:station:weatherflow.com::700&observedProperty=Winds&eventtime=2013-12-06T12:18:47Z/2013-12-16T12:18:47Z'"
       ]
      }
     ],
     "prompt_number": 7
    },
    {
     "cell_type": "markdown",
     "metadata": {},
     "source": [
      "http://d.weatherflow.com/sos/sos.pl?request=GetObservation&service=SOS&version=1.0.0&responseFormat=text%2Fxml%3Bschema%3D%22ioos%2F0.6.1%22&offering=urn%3Ax-weatherflow%3Adef%3Astation%3Aweatherflow.com%3A%3A700&observedProperty=Winds&eventtime=2013-12-06T12:18:47Z/2013-12-16T12:18:47Z"
     ]
    },
    {
     "cell_type": "code",
     "collapsed": false,
     "input": [
      "response = weatherflow.get_observation(offerings=['urn:x-weatherflow:def:station:weatherflow.com::700'],\n",
      "                                     responseFormat='text/xml;schema=\"ioos/0.6.1\"',\n",
      "                                     observedProperties=['Winds'],\n",
      "                                     eventTime='2013-12-16T12:00:00Z/2013-12-16T13:00:00Z')\n",
      "                                     "
     ],
     "language": "python",
     "metadata": {},
     "outputs": [
      {
       "output_type": "stream",
       "stream": "stdout",
       "text": [
        "base_url: http://www.weatherflow.com/sos.pl\n",
        "http://www.weatherflow.com/sos.pl?eventTime=2013-12-16T12%3A00%3A00Z%2F2013-12-16T13%3A00%3A00Z&service=SOS&offering=urn%3Ax-weatherflow%3Adef%3Astation%3Aweatherflow.com%3A%3A700&request=GetObservation&version=1.0.0&responseFormat=text%2Fxml%3Bschema%3D%22ioos%2F0.6.1%22&observedProperty=Winds\n",
        "now:"
       ]
      },
      {
       "output_type": "stream",
       "stream": "stdout",
       "text": [
        " http://d.weatherflow.com/sos/sos.pl\n",
        "http://d.weatherflow.com/sos/sos.pl?eventTime=2013-12-16T12%3A00%3A00Z%2F2013-12-16T13%3A00%3A00Z&service=SOS&offering=urn%3Ax-weatherflow%3Adef%3Astation%3Aweatherflow.com%3A%3A700&request=GetObservation&version=1.0.0&responseFormat=text%2Fxml%3Bschema%3D%22ioos%2F0.6.1%22&observedProperty=Winds\n"
       ]
      }
     ],
     "prompt_number": 31
    },
    {
     "cell_type": "code",
     "collapsed": false,
     "input": [
      "response"
     ],
     "language": "python",
     "metadata": {},
     "outputs": [
      {
       "metadata": {},
       "output_type": "pyout",
       "prompt_number": 32,
       "text": [
        "'<?xml version=\"1.0\" encoding=\"UTF-8\"?>\\n<om:CompositeObservation xmlns:xlink=\"http://www.w3.org/1999/xlink\" xmlns:gml=\"http://www.opengis.net/gml/3.2\" xmlns:om=\"http://www.opengis.net/om/1.0\" xmlns:swe=\"http://www.opengis.net/swe/1.0.2\" xmlns:ioos=\"http://www.noaa.gov/ioos/0.6.1\" xmlns:xsi=\"http://www.w3.org/2001/XMLSchema-instance\" xsi:schemaLocation=\"http://www.opengis.net/om/1.0 http://www.csc.noaa.gov/ioos/schema/IOOS-DIF/IOOS/0.6.1/schemas/ioosObservationSpecializations.xsd\" gml:id=\"WindsPointCollectionTimeSeriesObservation\">\\n  <gml:description>Winds observations at a point at a series of times</gml:description>\\n  <gml:name>Weatherflow observations for Network</gml:name>\\n  <gml:boundedBy>\\n    <gml:Envelope srsName=\"urn:ogc:def:crs:epsg::4326\">\\n      <gml:lowerCorner>37.96643 -75.87741</gml:lowerCorner>\\n      <gml:upperCorner>37.96643 -75.87741</gml:upperCorner>\\n\\n    </gml:Envelope>\\n  </gml:boundedBy>\\n  <om:samplingTime>\\n    <gml:TimePeriod gml:id=\"ST\">\\n      <gml:beginPosition>2001-03-15T03:40Z</gml:beginPosition>\\n      <gml:endPosition>2013-12-16T18:33Z</gml:endPosition>\\n    </gml:TimePeriod>\\n  </om:samplingTime>\\n  <om:procedure>\\n    <om:Process>\\n      <ioos:CompositeContext gml:id=\"SensorMetadata\" recDef=\"http://www.csc.noaa.gov/ioos/schema/IOOS-DIF/IOOS/0.6.1/recordDefinitions/PointSensorMetadataRecordDefinition.xml\">\\n        <gml:valueComponents>\\n          <ioos:Count name=\"NumberOfStations\">1</ioos:Count>\\n          <ioos:ContextArray gml:id=\"StationArray\">\\n            <gml:valueComponents>\\n              <ioos:CompositeContext gml:id=\"Station700Info\">\\n                <gml:valueComponents>\\n                  <ioos:StationName>Crisfield</ioos:StationName>\\n                  <ioos:Organization>WeatherFlow, Inc.</ioos:Organization>\\n                  <ioos:StationId>urn:x-weatherflow:def:station:weatherflow.com::700</ioos:StationId>\\n                  <gml:Point gml:id=\"Station1LatLon\">\\n                    <gml:pos>37.96643 -75.87741</gml:pos>\\n                  </gml:Point>\\n\\n                  <ioos:VerticalDatum>urn:ogc:def:datum:epsg::5113</ioos:VerticalDatum>\\n                  <ioos:VerticalPosition xsi:nil=\"true\" nilReason=\"missing\"/>\\n                  <ioos:Count name=\"Station700NumberOfSensors\">1</ioos:Count>\\n                  <ioos:ContextArray gml:id=\"Station700SensorArray\">\\n                    <gml:valueComponents>\\n                      <ioos:CompositeContext gml:id=\"Station700Sensor1Info\">\\n                        <gml:valueComponents>\\n                          <ioos:SensorId>urn:x-weatherflow:def:sensor:weatherflow.com::700:anemometer1</ioos:SensorId>\\n                          <ioos:SamplingRate uom=\"Hz\" xsi:nil=\"true\" nilReason=\"missing\"/>\\n                          <ioos:ReportingInterval uom=\"s\" xsi:nil=\"true\" nilReason=\"missing\"/>\\n                          <ioos:ProcessingLevel xsi:nil=\"true\" nilReason=\"missing\"/>\\n                        </gml:valueComponents>\\n                      </ioos:CompositeContext>\\n                    </gml:valueComponents>\\n                  </ioos:ContextArray>\\n                </gml:valueComponents>\\n              </ioos:CompositeContext>\\n            </gml:valueComponents>\\n          </ioos:ContextArray>\\n        </gml:valueComponents>\\n      </ioos:CompositeContext>\\n    </om:Process>\\n  </om:procedure>\\n\\n  <om:observedProperty xlink:href=\"http://www.csc.noaa.gov/ioos/schema/IOOS-DIF/IOOS/0.6.1/dictionaries/phenomenaDictionary.xml#Winds\"/>\\n  <om:featureOfInterest xlink:href=\"urn:cgi:Feature:CGI:EarthOcean\"/>\\n<!-- NDBC does not measure vertical wind velocity. -->\\n  <om:result>\\n    <ioos:Composite recDef=\"http://www.csc.noaa.gov/ioos/schema/IOOS-DIF/IOOS/0.6.1/recordDefinitions/WindsPointDataRecordDefinition.xml\" gml:id=\"WindsPointCollectionTimeSeriesDataObservations\">\\n      <gml:valueComponents>\\n        <ioos:Count name=\"NumberOfObservationsPoints\">1</ioos:Count>\\n        <ioos:Array gml:id=\"WindsPointCollectionTimeSeries\">\\n          <gml:valueComponents>\\n            <ioos:Composite gml:id=\"Station700TimeSeriesRecord\">\\n              <gml:valueComponents>\\n\\n                <ioos:Count name=\"Station1NumberOfObservationsTimes\">1</ioos:Count>\\n                <ioos:Array gml:id=\"Station700TimeSeries\">\\n                  <gml:valueComponents>\\n                    <ioos:Composite gml:id=\"Station700T1Point\">\\n                      <gml:valueComponents>\\n                        <ioos:CompositeContext gml:id=\"Station700T1ObservationConditions\" processDef=\"#Station700Info\">\\n                          <gml:valueComponents>\\n                            <gml:TimeInstant gml:id=\"Station700T1Time\">\\n\\n                              <gml:timePosition>2013-12-16T18:33Z</gml:timePosition>\\n                            </gml:TimeInstant>\\n                          </gml:valueComponents>\\n                        </ioos:CompositeContext>\\n                        <ioos:CompositeValue gml:id=\"Station700T1PointObservation\" processDef=\"#Station700Sensor1Info\">\\n                          <gml:valueComponents>\\n                            <ioos:Quantity name=\"WindSpeed\" uom=\"m/s\">0.89408</ioos:Quantity>\\n                            <ioos:Quantity name=\"WindDirection\" uom=\"deg\">332</ioos:Quantity>\\n\\n                            <ioos:Quantity name=\"WindVerticalVelocity\" uom=\"m/s\" xsi:nil=\"true\" nilReason=\"unknown\"/>\\n                            <ioos:Quantity name=\"WindGust\" uom=\"m/s\">1.877568</ioos:Quantity>\\n                          </gml:valueComponents>\\n                        </ioos:CompositeValue>\\n                      </gml:valueComponents>\\n                    </ioos:Composite>\\n                  </gml:valueComponents>\\n                </ioos:Array>\\n\\n              </gml:valueComponents>\\n            </ioos:Composite>\\n          </gml:valueComponents>\\n        </ioos:Array>\\n      </gml:valueComponents>\\n    </ioos:Composite>\\n\\n  </om:result>\\n</om:CompositeObservation>'"
       ]
      }
     ],
     "prompt_number": 32
    },
    {
     "cell_type": "code",
     "collapsed": false,
     "input": [],
     "language": "python",
     "metadata": {},
     "outputs": []
    }
   ],
   "metadata": {}
  }
 ]
}